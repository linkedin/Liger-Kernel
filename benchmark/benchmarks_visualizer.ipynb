{
 "cells": [
  {
   "cell_type": "code",
   "execution_count": null,
   "id": "7b9a1150",
   "metadata": {
    "metadata": {}
   },
   "outputs": [],
   "source": [
    "import pandas as pd\n",
    "import matplotlib.pyplot as plt\n",
    "import seaborn as sns\n",
    "import json"
   ]
  },
  {
   "cell_type": "code",
   "execution_count": null,
   "id": "1baa5a05",
   "metadata": {
    "metadata": {}
   },
   "outputs": [],
   "source": [
    "data = pd.read_csv(\"data/all_benchmark_data.csv\")\n",
    "data[\"extra_benchmark_config\"] = data[\"extra_benchmark_config_str\"].apply(json.loads)"
   ]
  },
  {
   "cell_type": "code",
   "execution_count": null,
   "id": "88d54e77",
   "metadata": {
    "metadata": {}
   },
   "outputs": [],
   "source": [
    "kernel_name = \"kl_div\"\n",
    "metric_name = \"speed\"\n",
    "kernel_operation_mode = \"full\"\n",
    "\n",
    "filtered_data = data[\n",
    "    (data[\"kernel_name\"] == kernel_name)\n",
    "    & (data[\"metric_name\"] == metric_name)\n",
    "    & (data[\"kernel_operation_mode\"] == kernel_operation_mode)\n",
    "    # Use this to filter by extra benchmark configuration property\n",
    "    # & (data['extra_benchmark_config'].apply(lambda x: x.get('H') == 4096))\n",
    "]\n",
    "\n",
    "print(filtered_data)\n",
    "if len(filtered_data) == 0:\n",
    "    raise ValueError(\"No data found for the specified filter\")\n",
    "\n",
    "xlabel = filtered_data[\"x_label\"].iloc[0]\n",
    "ylabel = f\"{metric_name} ({filtered_data['metric_unit'].iloc[0]})\"\n",
    "# Sort by \"kernel_provider\" to ensure consistent color assignment\n",
    "filtered_data = filtered_data.sort_values(by=\"kernel_provider\")\n",
    "\n",
    "plt.figure(figsize=(10, 6))\n",
    "sns.set(style=\"whitegrid\")\n",
    "ax = sns.lineplot(\n",
    "    data=filtered_data,\n",
    "    x=\"x_value\",\n",
    "    y=\"y_value_50\",\n",
    "    hue=\"kernel_provider\",\n",
    "    marker=\"o\",\n",
    "    palette=\"tab10\",\n",
    "    errorbar=(\"ci\", None),\n",
    ")\n",
    "\n",
    "# Seaborn can't plot pre-computed error bars, so we need to do it manually\n",
    "lines = ax.get_lines()\n",
    "colors = [line.get_color() for line in lines]\n",
    "\n",
    "for (kernel_provider, group_data), color in zip(\n",
    "    filtered_data.groupby(\"kernel_provider\"), colors\n",
    "):\n",
    "    # for i, row in group_data.iterrows():\n",
    "    y_error_lower = group_data[\"y_value_50\"] - group_data[\"y_value_20\"]\n",
    "    y_error_upper = group_data[\"y_value_80\"] - group_data[\"y_value_50\"]\n",
    "    y_error = [y_error_lower, y_error_upper]\n",
    "\n",
    "    plt.errorbar(\n",
    "        group_data[\"x_value\"],\n",
    "        group_data[\"y_value_50\"],\n",
    "        yerr=y_error,\n",
    "        fmt=\"o\",\n",
    "        color=color,\n",
    "        capsize=5,\n",
    "    )\n",
    "plt.legend(title=\"Kernel Provider\")\n",
    "plt.xlabel(xlabel)\n",
    "plt.ylabel(ylabel)\n",
    "plt.tight_layout()\n",
    "\n",
    "print(\"Summary of filtered data found:\")\n",
    "print(filtered_data.describe(include=\"all\"))"
   ]
  },
  {
   "cell_type": "code",
   "execution_count": null,
   "id": "372c1ae1",
   "metadata": {},
   "outputs": [],
   "source": []
  }
 ],
 "metadata": {
  "kernelspec": {
   "display_name": "Python 3 (ipykernel)",
   "language": "python",
   "name": "python3"
  },
  "language_info": {
   "codemirror_mode": {
    "name": "ipython",
    "version": 3
   },
   "file_extension": ".py",
   "mimetype": "text/x-python",
   "name": "python",
   "nbconvert_exporter": "python",
   "pygments_lexer": "ipython3",
   "version": "3.10.12"
  }
 },
 "nbformat": 4,
 "nbformat_minor": 5
}
